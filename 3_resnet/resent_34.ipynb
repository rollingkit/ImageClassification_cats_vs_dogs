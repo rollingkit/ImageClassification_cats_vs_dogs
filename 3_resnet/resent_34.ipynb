{
 "cells": [
  {
   "cell_type": "code",
   "execution_count": 1,
   "metadata": {},
   "outputs": [
    {
     "name": "stderr",
     "output_type": "stream",
     "text": [
      "Using TensorFlow backend.\n"
     ]
    }
   ],
   "source": [
    "from keras.optimizers import Adam\n",
    "from keras.layers import Dense, Activation, Conv2D, MaxPooling2D, Flatten, Dropout\n",
    "from keras.layers import BatchNormalization, AveragePooling2D, concatenate\n",
    "from keras.layers import Input, concatenate\n",
    "from keras.layers import Add\n",
    "from keras.layers import GlobalAveragePooling2D\n",
    "from keras.models import Model"
   ]
  },
  {
   "cell_type": "code",
   "execution_count": 2,
   "metadata": {},
   "outputs": [],
   "source": [
    "def Conv2d_BN(x, nb_filter, kernel_size, padding='same', strides=(1,1), name=None):\n",
    "    if name is not None:\n",
    "        bn_name = name +'_bn'\n",
    "        conv_name = name + '_conv'\n",
    "    else:\n",
    "        bn_name = None\n",
    "        conv_name = None\n",
    "        \n",
    "    \n",
    "    x = Conv2D(nb_filter, kernel_size, padding=padding, strides=strides, activation='relu', name=conv_name)(x)\n",
    "    x = BatchNormalization(axis=3, name=bn_name)(x)\n",
    "    return x\n"
   ]
  },
  {
   "cell_type": "code",
   "execution_count": 3,
   "metadata": {},
   "outputs": [],
   "source": [
    "def Residual_Block(input_model, nb_filter, kernel_size, strides=(1,1), with_conv_shortcut=False):\n",
    "    x = Conv2d_BN(input_model, nb_filter=nb_filter, kernel_size=kernel_size, strides=strides, padding='same')\n",
    "    x = Conv2d_BN(x, nb_filter=nb_filter, kernel_size=kernel_size, padding='same')\n",
    "    \n",
    "    if with_conv_shortcut:\n",
    "        shorcut = Conv2d_BN(input_model, nb_filter, nb_filter, strides=strides, kernel_size=kernel_size)\n",
    "        x = Add()([x, shortcut])\n",
    "        return x\n",
    "    else:\n",
    "        x = Add()([x, input_model])\n",
    "        return x"
   ]
  },
  {
   "cell_type": "code",
   "execution_count": null,
   "metadata": {},
   "outputs": [],
   "source": [
    "def ResNet34(width, height, depth, classes):\n",
    "    Img = Input(shape=(width, height, depth))\n",
    "    \n",
    "    x = Conv2d_BN(Img,64,(7,7), strides=(2,2), padding='same')\n",
    "    x = MaxPooling2D(pool_size=(3,3), strides=(2,2), padding='same')(x)\n",
    "    \n",
    "    #Residual conv2_x output 56x56x64\n",
    "    x = Residual_Block(x, nb_filter=64, kernel_size=(3,3))\n",
    "    x = Residual_Block()"
   ]
  }
 ],
 "metadata": {
  "kernelspec": {
   "display_name": "Python 3",
   "language": "python",
   "name": "python3"
  },
  "language_info": {
   "codemirror_mode": {
    "name": "ipython",
    "version": 3
   },
   "file_extension": ".py",
   "mimetype": "text/x-python",
   "name": "python",
   "nbconvert_exporter": "python",
   "pygments_lexer": "ipython3",
   "version": "3.7.6"
  }
 },
 "nbformat": 4,
 "nbformat_minor": 4
}
