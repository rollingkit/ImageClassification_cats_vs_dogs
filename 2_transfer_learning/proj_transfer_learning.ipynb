{
 "cells": [
  {
   "cell_type": "markdown",
   "metadata": {
    "id": "9WB8IwVB-A_e"
   },
   "source": [
    "# ====Method2 : Transfer Learning ===="
   ]
  },
  {
   "cell_type": "code",
   "execution_count": null,
   "metadata": {
    "colab": {
     "base_uri": "https://localhost:8080/"
    },
    "executionInfo": {
     "elapsed": 23326,
     "status": "ok",
     "timestamp": 1620419428790,
     "user": {
      "displayName": "Sivankit Bhanot",
      "photoUrl": "",
      "userId": "05844894863592949286"
     },
     "user_tz": 240
    },
    "id": "A7XBAmCYQO7y",
    "outputId": "d09e4855-8c2e-49a9-c3d7-17f49447ffa9"
   },
   "outputs": [
    {
     "name": "stdout",
     "output_type": "stream",
     "text": [
      "Mounted at /content/gdrive\n"
     ]
    }
   ],
   "source": [
    "from google.colab import drive\n",
    "drive.mount('/content/gdrive')"
   ]
  },
  {
   "cell_type": "code",
   "execution_count": null,
   "metadata": {
    "id": "2JKPdSr2QfWA"
   },
   "outputs": [],
   "source": [
    "import os, shutil\n",
    "\n",
    "TRAINDIR = 'gdrive/MyDrive/ee_628/proj/train/'\n",
    "cat_folder = 'cat'\n",
    "dog_folder = 'dog'"
   ]
  },
  {
   "cell_type": "code",
   "execution_count": null,
   "metadata": {
    "id": "PrnrOQZHQqBi"
   },
   "outputs": [],
   "source": [
    "from keras.preprocessing.image import ImageDataGenerator\n",
    "\n",
    "datagen = ImageDataGenerator(rotation_range = 10,\n",
    "                             shear_range=0.2,\n",
    "                             rescale = 1./255,\n",
    "                             validation_split=0.25)\n",
    "IMG_H = 150\n",
    "IMG_W = 150"
   ]
  },
  {
   "cell_type": "code",
   "execution_count": null,
   "metadata": {
    "colab": {
     "base_uri": "https://localhost:8080/"
    },
    "executionInfo": {
     "elapsed": 64074,
     "status": "ok",
     "timestamp": 1620419506677,
     "user": {
      "displayName": "Sivankit Bhanot",
      "photoUrl": "",
      "userId": "05844894863592949286"
     },
     "user_tz": 240
    },
    "id": "46dPOZWcQxa4",
    "outputId": "176843c4-9011-4873-f6f1-50855aa66a98"
   },
   "outputs": [
    {
     "name": "stdout",
     "output_type": "stream",
     "text": [
      "Found 18750 images belonging to 2 classes.\n"
     ]
    }
   ],
   "source": [
    "train_generator = datagen.flow_from_directory(TRAINDIR,\n",
    "                                              target_size=(IMG_H, IMG_W),\n",
    "                                              batch_size=100,\n",
    "                                              class_mode='binary',\n",
    "                                              subset='training')"
   ]
  },
  {
   "cell_type": "code",
   "execution_count": null,
   "metadata": {
    "colab": {
     "base_uri": "https://localhost:8080/"
    },
    "executionInfo": {
     "elapsed": 825,
     "status": "ok",
     "timestamp": 1620419508720,
     "user": {
      "displayName": "Sivankit Bhanot",
      "photoUrl": "",
      "userId": "05844894863592949286"
     },
     "user_tz": 240
    },
    "id": "4_7aAvnMQ0WD",
    "outputId": "494bbb0b-d4c8-448b-8e97-2a4ca6c5c37e"
   },
   "outputs": [
    {
     "name": "stdout",
     "output_type": "stream",
     "text": [
      "Found 6250 images belonging to 2 classes.\n"
     ]
    }
   ],
   "source": [
    "val_generator = datagen.flow_from_directory(TRAINDIR,\n",
    "                                            target_size=(IMG_H, IMG_W),\n",
    "                                            batch_size=100,\n",
    "                                            class_mode='binary',\n",
    "                                            subset='validation')"
   ]
  },
  {
   "cell_type": "code",
   "execution_count": null,
   "metadata": {
    "colab": {
     "base_uri": "https://localhost:8080/"
    },
    "executionInfo": {
     "elapsed": 1581,
     "status": "ok",
     "timestamp": 1620419510961,
     "user": {
      "displayName": "Sivankit Bhanot",
      "photoUrl": "",
      "userId": "05844894863592949286"
     },
     "user_tz": 240
    },
    "id": "DazakLKFRL9f",
    "outputId": "c887efd0-59bb-4b11-d7fd-e83670e1ef59"
   },
   "outputs": [
    {
     "name": "stdout",
     "output_type": "stream",
     "text": [
      "Found 12500 images belonging to 1 classes.\n"
     ]
    }
   ],
   "source": [
    "test_generator = datagen.flow_from_directory('gdrive/MyDrive/ee_628/proj/', classes=['test1'],\n",
    "                                             target_size=(IMG_H, IMG_W))"
   ]
  },
  {
   "cell_type": "markdown",
   "metadata": {
    "id": "OXZd6XmGRScf"
   },
   "source": [
    "# Transfer Learning:\n"
   ]
  },
  {
   "cell_type": "markdown",
   "metadata": {
    "id": "0aGo7crXRVRz"
   },
   "source": [
    "#  VGG 16"
   ]
  },
  {
   "cell_type": "code",
   "execution_count": null,
   "metadata": {
    "id": "ljphCw3LRUkQ"
   },
   "outputs": [],
   "source": [
    "import pandas as pd\n",
    "import numpy as np\n",
    "from keras.models import Sequential\n",
    "from keras.layers import Convolution2D, MaxPooling2D, Flatten, Dense, Dropout, GlobalAveragePooling2D\n",
    "from keras.applications import VGG16, VGG19"
   ]
  },
  {
   "cell_type": "code",
   "execution_count": null,
   "metadata": {
    "colab": {
     "base_uri": "https://localhost:8080/"
    },
    "executionInfo": {
     "elapsed": 6565,
     "status": "ok",
     "timestamp": 1620419523704,
     "user": {
      "displayName": "Sivankit Bhanot",
      "photoUrl": "",
      "userId": "05844894863592949286"
     },
     "user_tz": 240
    },
    "id": "nCHNR7y_S_jU",
    "outputId": "5d7bb6a0-8576-4774-9361-d10e708a238f"
   },
   "outputs": [
    {
     "name": "stdout",
     "output_type": "stream",
     "text": [
      "Downloading data from https://storage.googleapis.com/tensorflow/keras-applications/vgg16/vgg16_weights_tf_dim_ordering_tf_kernels_notop.h5\n",
      "58892288/58889256 [==============================] - 0s 0us/step\n"
     ]
    }
   ],
   "source": [
    "vgg16_base = VGG16(include_top=False, weights='imagenet', input_shape=(IMG_W, IMG_H, 3))\n"
   ]
  },
  {
   "cell_type": "code",
   "execution_count": null,
   "metadata": {
    "colab": {
     "base_uri": "https://localhost:8080/"
    },
    "executionInfo": {
     "elapsed": 760,
     "status": "ok",
     "timestamp": 1620419529605,
     "user": {
      "displayName": "Sivankit Bhanot",
      "photoUrl": "",
      "userId": "05844894863592949286"
     },
     "user_tz": 240
    },
    "id": "u60hoI1HTi8a",
    "outputId": "e168c254-0db4-4806-ccee-5c264aa65d3b"
   },
   "outputs": [
    {
     "name": "stdout",
     "output_type": "stream",
     "text": [
      "Model: \"vgg16\"\n",
      "_________________________________________________________________\n",
      "Layer (type)                 Output Shape              Param #   \n",
      "=================================================================\n",
      "input_1 (InputLayer)         [(None, 150, 150, 3)]     0         \n",
      "_________________________________________________________________\n",
      "block1_conv1 (Conv2D)        (None, 150, 150, 64)      1792      \n",
      "_________________________________________________________________\n",
      "block1_conv2 (Conv2D)        (None, 150, 150, 64)      36928     \n",
      "_________________________________________________________________\n",
      "block1_pool (MaxPooling2D)   (None, 75, 75, 64)        0         \n",
      "_________________________________________________________________\n",
      "block2_conv1 (Conv2D)        (None, 75, 75, 128)       73856     \n",
      "_________________________________________________________________\n",
      "block2_conv2 (Conv2D)        (None, 75, 75, 128)       147584    \n",
      "_________________________________________________________________\n",
      "block2_pool (MaxPooling2D)   (None, 37, 37, 128)       0         \n",
      "_________________________________________________________________\n",
      "block3_conv1 (Conv2D)        (None, 37, 37, 256)       295168    \n",
      "_________________________________________________________________\n",
      "block3_conv2 (Conv2D)        (None, 37, 37, 256)       590080    \n",
      "_________________________________________________________________\n",
      "block3_conv3 (Conv2D)        (None, 37, 37, 256)       590080    \n",
      "_________________________________________________________________\n",
      "block3_pool (MaxPooling2D)   (None, 18, 18, 256)       0         \n",
      "_________________________________________________________________\n",
      "block4_conv1 (Conv2D)        (None, 18, 18, 512)       1180160   \n",
      "_________________________________________________________________\n",
      "block4_conv2 (Conv2D)        (None, 18, 18, 512)       2359808   \n",
      "_________________________________________________________________\n",
      "block4_conv3 (Conv2D)        (None, 18, 18, 512)       2359808   \n",
      "_________________________________________________________________\n",
      "block4_pool (MaxPooling2D)   (None, 9, 9, 512)         0         \n",
      "_________________________________________________________________\n",
      "block5_conv1 (Conv2D)        (None, 9, 9, 512)         2359808   \n",
      "_________________________________________________________________\n",
      "block5_conv2 (Conv2D)        (None, 9, 9, 512)         2359808   \n",
      "_________________________________________________________________\n",
      "block5_conv3 (Conv2D)        (None, 9, 9, 512)         2359808   \n",
      "_________________________________________________________________\n",
      "block5_pool (MaxPooling2D)   (None, 4, 4, 512)         0         \n",
      "=================================================================\n",
      "Total params: 14,714,688\n",
      "Trainable params: 14,714,688\n",
      "Non-trainable params: 0\n",
      "_________________________________________________________________\n"
     ]
    }
   ],
   "source": [
    "vgg16_base.summary()"
   ]
  },
  {
   "cell_type": "markdown",
   "metadata": {
    "id": "6srBZPtXTwXi"
   },
   "source": [
    "As we see above, when using transfer learning, we are only concerned with the beginning or top convolutional layers from the network once it was trained on ImageNet (in this case) dataset. We will still have to add the fully connected layers to the end of the network for it to perform classifcation. In the layers that we add on now, we can see it will have to take an input of 4X4X512 or a single product of these three if we are working with a Flattening layer. "
   ]
  },
  {
   "cell_type": "code",
   "execution_count": null,
   "metadata": {
    "id": "LxNymW85TlM8"
   },
   "outputs": [],
   "source": [
    "from keras.models import Sequential\n",
    "from keras.layers import Conv2D, MaxPooling2D, Flatten, Dense, Activation, Dropout, BatchNormalization"
   ]
  },
  {
   "cell_type": "code",
   "execution_count": null,
   "metadata": {
    "id": "9qeXxYUhV7gM"
   },
   "outputs": [],
   "source": [
    "model = Sequential()\n",
    "model.add(vgg16_base)\n",
    "model.add(Flatten())\n",
    "model.add(Dense(4096))\n",
    "model.add(Dense(4096))\n",
    "model.add(Dense(1000))\n",
    "model.add(Dense(1, activation='sigmoid'))\n",
    "model.compile(loss='binary_crossentropy',\n",
    "              optimizer='adam', \n",
    "              metrics=['accuracy'])"
   ]
  },
  {
   "cell_type": "code",
   "execution_count": null,
   "metadata": {
    "colab": {
     "base_uri": "https://localhost:8080/"
    },
    "executionInfo": {
     "elapsed": 174,
     "status": "ok",
     "timestamp": 1620419538619,
     "user": {
      "displayName": "Sivankit Bhanot",
      "photoUrl": "",
      "userId": "05844894863592949286"
     },
     "user_tz": 240
    },
    "id": "kI-a6H1BWzoc",
    "outputId": "cdfa4f64-1ce9-46ad-88c0-366f18b88101"
   },
   "outputs": [
    {
     "name": "stdout",
     "output_type": "stream",
     "text": [
      "Model: \"sequential\"\n",
      "_________________________________________________________________\n",
      "Layer (type)                 Output Shape              Param #   \n",
      "=================================================================\n",
      "vgg16 (Functional)           (None, 4, 4, 512)         14714688  \n",
      "_________________________________________________________________\n",
      "flatten (Flatten)            (None, 8192)              0         \n",
      "_________________________________________________________________\n",
      "dense (Dense)                (None, 4096)              33558528  \n",
      "_________________________________________________________________\n",
      "dense_1 (Dense)              (None, 4096)              16781312  \n",
      "_________________________________________________________________\n",
      "dense_2 (Dense)              (None, 1000)              4097000   \n",
      "_________________________________________________________________\n",
      "dense_3 (Dense)              (None, 1)                 1001      \n",
      "=================================================================\n",
      "Total params: 69,152,529\n",
      "Trainable params: 69,152,529\n",
      "Non-trainable params: 0\n",
      "_________________________________________________________________\n"
     ]
    }
   ],
   "source": [
    "model.summary()"
   ]
  },
  {
   "cell_type": "code",
   "execution_count": null,
   "metadata": {
    "colab": {
     "base_uri": "https://localhost:8080/"
    },
    "executionInfo": {
     "elapsed": 4734265,
     "status": "ok",
     "timestamp": 1620429795085,
     "user": {
      "displayName": "Sivankit Bhanot",
      "photoUrl": "",
      "userId": "05844894863592949286"
     },
     "user_tz": 240
    },
    "id": "oRPcbI8yW1Wf",
    "outputId": "db55d9ea-1a21-4752-936a-85abf6dd2bb6"
   },
   "outputs": [
    {
     "name": "stderr",
     "output_type": "stream",
     "text": [
      "/usr/local/lib/python3.7/dist-packages/tensorflow/python/keras/engine/training.py:1844: UserWarning: `Model.fit_generator` is deprecated and will be removed in a future version. Please use `Model.fit`, which supports generators.\n",
      "  warnings.warn('`Model.fit_generator` is deprecated and '\n"
     ]
    },
    {
     "name": "stdout",
     "output_type": "stream",
     "text": [
      "Epoch 1/20\n",
      "188/188 [==============================] - 5948s 31s/step - loss: 12.3478 - accuracy: 0.5012 - val_loss: 0.6980 - val_accuracy: 0.5000\n",
      "Epoch 2/20\n",
      "188/188 [==============================] - 226s 1s/step - loss: 0.7010 - accuracy: 0.4950 - val_loss: 0.7013 - val_accuracy: 0.5000\n",
      "Epoch 3/20\n",
      "188/188 [==============================] - 226s 1s/step - loss: 0.6988 - accuracy: 0.5064 - val_loss: 0.6931 - val_accuracy: 0.5000\n",
      "Epoch 4/20\n",
      "188/188 [==============================] - 227s 1s/step - loss: 0.7036 - accuracy: 0.4948 - val_loss: 0.6948 - val_accuracy: 0.5000\n",
      "Epoch 5/20\n",
      "188/188 [==============================] - 227s 1s/step - loss: 0.6963 - accuracy: 0.4969 - val_loss: 0.7013 - val_accuracy: 0.5000\n",
      "Epoch 6/20\n",
      "188/188 [==============================] - 225s 1s/step - loss: 0.6953 - accuracy: 0.4979 - val_loss: 0.7024 - val_accuracy: 0.5000\n",
      "Epoch 7/20\n",
      "188/188 [==============================] - 225s 1s/step - loss: 81.6620 - accuracy: 0.5023 - val_loss: 1.0683 - val_accuracy: 0.5000\n",
      "Epoch 8/20\n",
      "188/188 [==============================] - 224s 1s/step - loss: 2.1807 - accuracy: 0.5004 - val_loss: 0.7050 - val_accuracy: 0.5000\n",
      "Epoch 9/20\n",
      "188/188 [==============================] - 224s 1s/step - loss: 0.7853 - accuracy: 0.4933 - val_loss: 0.6932 - val_accuracy: 0.5000\n",
      "Epoch 10/20\n",
      "188/188 [==============================] - 225s 1s/step - loss: 0.7936 - accuracy: 0.4989 - val_loss: 0.7115 - val_accuracy: 0.5000\n",
      "Epoch 11/20\n",
      "188/188 [==============================] - 226s 1s/step - loss: 0.7731 - accuracy: 0.5058 - val_loss: 0.7147 - val_accuracy: 0.5000\n",
      "Epoch 12/20\n",
      "188/188 [==============================] - 224s 1s/step - loss: 0.7365 - accuracy: 0.5008 - val_loss: 0.6974 - val_accuracy: 0.5000\n",
      "Epoch 13/20\n",
      "188/188 [==============================] - 224s 1s/step - loss: 0.7737 - accuracy: 0.4960 - val_loss: 0.7077 - val_accuracy: 0.5000\n",
      "Epoch 14/20\n",
      "188/188 [==============================] - 224s 1s/step - loss: 0.7288 - accuracy: 0.5012 - val_loss: 0.8029 - val_accuracy: 0.5000\n",
      "Epoch 15/20\n",
      "188/188 [==============================] - 224s 1s/step - loss: 0.8107 - accuracy: 0.5006 - val_loss: 0.8154 - val_accuracy: 0.5000\n",
      "Epoch 16/20\n",
      "188/188 [==============================] - 224s 1s/step - loss: 0.7770 - accuracy: 0.5017 - val_loss: 0.7925 - val_accuracy: 0.5000\n",
      "Epoch 17/20\n",
      "188/188 [==============================] - 226s 1s/step - loss: 0.7447 - accuracy: 0.5047 - val_loss: 0.6966 - val_accuracy: 0.5000\n",
      "Epoch 18/20\n",
      "188/188 [==============================] - 226s 1s/step - loss: 0.7159 - accuracy: 0.5086 - val_loss: 0.6990 - val_accuracy: 0.5000\n",
      "Epoch 19/20\n",
      "188/188 [==============================] - 223s 1s/step - loss: 0.7202 - accuracy: 0.4986 - val_loss: 0.7528 - val_accuracy: 0.5000\n",
      "Epoch 20/20\n",
      "188/188 [==============================] - 222s 1s/step - loss: 0.7171 - accuracy: 0.4966 - val_loss: 0.7615 - val_accuracy: 0.5000\n"
     ]
    }
   ],
   "source": [
    "hist = model.fit_generator(train_generator, validation_data=val_generator, epochs=20)"
   ]
  },
  {
   "cell_type": "code",
   "execution_count": null,
   "metadata": {
    "colab": {
     "base_uri": "https://localhost:8080/",
     "height": 295
    },
    "executionInfo": {
     "elapsed": 492,
     "status": "ok",
     "timestamp": 1620429958976,
     "user": {
      "displayName": "Sivankit Bhanot",
      "photoUrl": "",
      "userId": "05844894863592949286"
     },
     "user_tz": 240
    },
    "id": "rmXRuoFqXJ7H",
    "outputId": "9595ba0f-a051-476e-c986-4f995c1d66d0"
   },
   "outputs": [
    {
     "data": {
      "image/png": "[encoded data removed]",
      "text/plain": [
       "<Figure size 432x288 with 1 Axes>"
      ]
     },
     "metadata": {
      "needs_background": "light",
      "tags": []
     },
     "output_type": "display_data"
    }
   ],
   "source": [
    "import matplotlib.pyplot as plt\n",
    "\n",
    "epochs = [i for i in range(1,21)]\n",
    "\n",
    "plt.plot(epochs, hist.history['accuracy'], hist.history['val_accuracy'])\n",
    "plt.legend(['Training', 'Validation'])\n",
    "plt.title('Accuracy Measure over Epochs - AlexNet')\n",
    "plt.xlabel('Epoch')\n",
    "plt.ylabel('Accuracy')\n",
    "plt.show()"
   ]
  },
  {
   "cell_type": "markdown",
   "metadata": {
    "id": "4B_B2ZWzcLl_"
   },
   "source": [
    "We obserse from the plots above that while training accuracy fluctuates quite a bit, the validation accuracy does not change at all and is completely constant for the entire duration of the 20 epochs. "
   ]
  },
  {
   "cell_type": "code",
   "execution_count": null,
   "metadata": {
    "colab": {
     "base_uri": "https://localhost:8080/",
     "height": 295
    },
    "executionInfo": {
     "elapsed": 417,
     "status": "ok",
     "timestamp": 1620430031891,
     "user": {
      "displayName": "Sivankit Bhanot",
      "photoUrl": "",
      "userId": "05844894863592949286"
     },
     "user_tz": 240
    },
    "id": "naZx0OOOPHhA",
    "outputId": "6cbb87d9-eb1f-4221-d7a2-4cd949aa02bb"
   },
   "outputs": [
    {
     "data": {
      "image/png": "[encoded data removed]",
      "text/plain": [
       "<Figure size 432x288 with 1 Axes>"
      ]
     },
     "metadata": {
      "needs_background": "light",
      "tags": []
     },
     "output_type": "display_data"
    }
   ],
   "source": [
    "plt.plot(epochs, hist.history['loss'], hist.history['val_loss'])\n",
    "plt.legend(['Training', 'Validation'])\n",
    "plt.title('Loss Measure over Epochs - AlexNet')\n",
    "plt.xlabel('Epoch')\n",
    "plt.ylabel('Loss')\n",
    "plt.show()"
   ]
  },
  {
   "cell_type": "markdown",
   "metadata": {
    "id": "gDADUSZLccUI"
   },
   "source": [
    "Clearly, there is need for some investigation in the training of this network as it seems to not be doing much on the validation set. It could be that this is due to the fact that there are too many dense layers at the end of the network. More about this has been mentioned in the Conclusion. "
   ]
  },
  {
   "cell_type": "code",
   "execution_count": null,
   "metadata": {
    "colab": {
     "base_uri": "https://localhost:8080/"
    },
    "executionInfo": {
     "elapsed": 220,
     "status": "ok",
     "timestamp": 1620430484410,
     "user": {
      "displayName": "Sivankit Bhanot",
      "photoUrl": "",
      "userId": "05844894863592949286"
     },
     "user_tz": 240
    },
    "id": "pPwzYH4ZLqGN",
    "outputId": "fab26648-5fa8-4efd-c08e-095ab6ff3ce1"
   },
   "outputs": [
    {
     "data": {
      "text/plain": [
       "['loss', 'accuracy']"
      ]
     },
     "execution_count": 21,
     "metadata": {
      "tags": []
     },
     "output_type": "execute_result"
    }
   ],
   "source": [
    "model.metrics_names"
   ]
  },
  {
   "cell_type": "code",
   "execution_count": null,
   "metadata": {
    "colab": {
     "base_uri": "https://localhost:8080/"
    },
    "executionInfo": {
     "elapsed": 146841,
     "status": "ok",
     "timestamp": 1620430197735,
     "user": {
      "displayName": "Sivankit Bhanot",
      "photoUrl": "",
      "userId": "05844894863592949286"
     },
     "user_tz": 240
    },
    "id": "NhS3JHotKAom",
    "outputId": "ae084865-1d2b-4851-a420-aa06bb78b3b9"
   },
   "outputs": [
    {
     "name": "stderr",
     "output_type": "stream",
     "text": [
      "/usr/local/lib/python3.7/dist-packages/tensorflow/python/keras/engine/training.py:1877: UserWarning: `Model.evaluate_generator` is deprecated and will be removed in a future version. Please use `Model.evaluate`, which supports generators.\n",
      "  warnings.warn('`Model.evaluate_generator` is deprecated and '\n"
     ]
    },
    {
     "data": {
      "text/plain": [
       "[0.7615352869033813, 0.5]"
      ]
     },
     "execution_count": 20,
     "metadata": {
      "tags": []
     },
     "output_type": "execute_result"
    }
   ],
   "source": [
    "model.evaluate_generator(train_generator)"
   ]
  },
  {
   "cell_type": "code",
   "execution_count": null,
   "metadata": {
    "colab": {
     "base_uri": "https://localhost:8080/"
    },
    "executionInfo": {
     "elapsed": 49088,
     "status": "ok",
     "timestamp": 1620430547618,
     "user": {
      "displayName": "Sivankit Bhanot",
      "photoUrl": "",
      "userId": "05844894863592949286"
     },
     "user_tz": 240
    },
    "id": "Ty_0fuNSKFYY",
    "outputId": "58644cac-467f-45f8-cde6-c358f8d6eb47"
   },
   "outputs": [
    {
     "name": "stderr",
     "output_type": "stream",
     "text": [
      "/usr/local/lib/python3.7/dist-packages/tensorflow/python/keras/engine/training.py:1877: UserWarning: `Model.evaluate_generator` is deprecated and will be removed in a future version. Please use `Model.evaluate`, which supports generators.\n",
      "  warnings.warn('`Model.evaluate_generator` is deprecated and '\n"
     ]
    },
    {
     "data": {
      "text/plain": [
       "[0.7615354657173157, 0.5]"
      ]
     },
     "execution_count": 22,
     "metadata": {
      "tags": []
     },
     "output_type": "execute_result"
    }
   ],
   "source": [
    "model.evaluate_generator(val_generator)"
   ]
  },
  {
   "cell_type": "markdown",
   "metadata": {
    "id": "kfaH_nsSeRRD"
   },
   "source": [
    "| | Accuracy% | Loss |\n",
    "| :-: | :-: | :-: |\n",
    "| Training | 50 | 0.7615 |\n",
    "| Validation | 50 | 0.7615 |"
   ]
  },
  {
   "cell_type": "code",
   "execution_count": null,
   "metadata": {
    "id": "-4fcMptifNl2"
   },
   "outputs": [],
   "source": []
  }
 ],
 "metadata": {
  "accelerator": "GPU",
  "colab": {
   "authorship_tag": "ABX9TyO5A+9xWY1vP5hDQHgGebtl",
   "collapsed_sections": [],
   "name": "proj_transfer learning.ipynb",
   "provenance": []
  },
  "kernelspec": {
   "display_name": "Python 3",
   "language": "python",
   "name": "python3"
  },
  "language_info": {
   "codemirror_mode": {
    "name": "ipython",
    "version": 3
   },
   "file_extension": ".py",
   "mimetype": "text/x-python",
   "name": "python",
   "nbconvert_exporter": "python",
   "pygments_lexer": "ipython3",
   "version": "3.7.6"
  }
 },
 "nbformat": 4,
 "nbformat_minor": 1
}
